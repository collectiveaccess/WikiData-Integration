{
 "cells": [
  {
   "cell_type": "code",
   "execution_count": 1,
   "id": "84a1d3a4-b149-49d5-8767-1a325cce529e",
   "metadata": {},
   "outputs": [],
   "source": [
    "import pywikibot\n",
    "import requests\n",
    "import sys\n",
    "import os \n",
    "from pathlib import Path\n",
    "import json\n",
    "import re \n",
    "import time\n",
    "from datetime import date\n",
    "from os.path import exists\n",
    "\n",
    "\n",
    "# https://stackoverflow.com/a/66303932\n",
    "project_path = Path(os.path.dirname(os.path.realpath(\"__file__\"))).parent\n",
    "sys.path.append(str(project_path))\n",
    "sys.path.append(str(project_path / 'scripts'))\n",
    "\n",
    "import scripts.utils.wikidata_utils as wd\n"
   ]
  },
  {
   "cell_type": "code",
   "execution_count": 2,
   "id": "7e2e5f7d-5fd8-43b6-91f6-5e54507a7cbb",
   "metadata": {},
   "outputs": [],
   "source": [
    "site = pywikibot.Site(\"wikidata\", \"wikidata\")\n",
    "repo = site.data_repository()\n",
    "\n",
    "WIKI_BASE_URL = \"https://www.wikidata.org\"\n",
    "WIKI_QUERY_URL = \"https://query.wikidata.org\"\n",
    "\n"
   ]
  },
  {
   "cell_type": "code",
   "execution_count": 3,
   "id": "8d61170b-94cb-4448-80dc-b30cfeccc403",
   "metadata": {},
   "outputs": [
    {
     "data": {
      "text/plain": [
       "True"
      ]
     },
     "execution_count": 3,
     "metadata": {},
     "output_type": "execute_result"
    }
   ],
   "source": [
    "# Q154287 record with multimedia test.wikidata \n",
    "\n",
    "records = {\n",
    "    'Q5': 'human',\n",
    "    'Q30': 'United States',\n",
    "    'Q487604': 'Martha Graham',\n",
    "    'Q16973731': 'Dianne McIntyre',\n",
    "    'Q753828': 'Essex',\n",
    "    'Q76': 'Barack Obama',\n",
    "}\n",
    "\n",
    "new_item = pywikibot.ItemPage(repo, title=\"Q76\")\n",
    "new_item.exists()"
   ]
  },
  {
   "cell_type": "code",
   "execution_count": 4,
   "id": "a509d13b-ad34-40c0-b196-d5ebe4f8c55e",
   "metadata": {},
   "outputs": [],
   "source": [
    "new_item_json = new_item.toJSON()\n",
    "# new_item_json"
   ]
  },
  {
   "cell_type": "code",
   "execution_count": 5,
   "id": "70d4d2d3-01f9-4cda-b07d-1c940ae3842f",
   "metadata": {},
   "outputs": [],
   "source": [
    "\n",
    "# print(json.dumps(new_item.toJSON(), indent=2, ensure_ascii=False))"
   ]
  },
  {
   "cell_type": "code",
   "execution_count": 6,
   "id": "6c32ecc2-1be6-45b0-859d-416d3fee4d95",
   "metadata": {},
   "outputs": [
    {
     "name": "stdout",
     "output_type": "stream",
     "text": [
      "7.157455921173096\n"
     ]
    }
   ],
   "source": [
    "\n",
    "start = time.time()\n",
    "item_data = wd.format_display_item(new_item)\n",
    "stop = time.time()\n",
    "print(stop-start)\n",
    "\n",
    "# print(json.dumps(item_data, indent=2, ensure_ascii=False))"
   ]
  },
  {
   "cell_type": "code",
   "execution_count": 7,
   "id": "88af54dc-9f4c-477d-8ddf-2e4611311915",
   "metadata": {},
   "outputs": [
    {
     "name": "stdout",
     "output_type": "stream",
     "text": [
      "all 8.40310025215149 575\n",
      "qids 3.8116910457611084 215\n",
      "pids 4.758410930633545 360\n"
     ]
    }
   ],
   "source": [
    "\n",
    "\n",
    "all_ids = wd.get_ids_for_item(new_item, new_item_json, include_pids=True, include_qids=True)\n",
    "start = time.time()\n",
    "all_ids_dict = wd.fetch_labels_for_ids(all_ids, lang=\"en\")\n",
    "stop = time.time()\n",
    "print('all', stop-start, len(all_ids))\n",
    "\n",
    "\n",
    "q_ids = wd.get_ids_for_item(new_item, new_item_json, include_pids=False, include_qids=True)\n",
    "start = time.time()\n",
    "q_ids_dict = wd.fetch_labels_for_ids(q_ids, lang=\"en\")\n",
    "stop = time.time()\n",
    "print('qids', stop-start, len(q_ids))\n",
    "\n",
    "\n",
    "p_ids = wd.get_ids_for_item(new_item, new_item_json, include_pids=True, include_qids=False)\n",
    "start = time.time()\n",
    "p_ids_dict = wd.fetch_labels_for_ids(p_ids, lang=\"en\")\n",
    "stop = time.time()\n",
    "print('pids', stop-start, len(p_ids))"
   ]
  },
  {
   "cell_type": "code",
   "execution_count": 9,
   "id": "55ea9699-a327-4e65-aa2f-0eb17db64724",
   "metadata": {},
   "outputs": [
    {
     "name": "stdout",
     "output_type": "stream",
     "text": [
      "ids 0.014738082885742188 3\n"
     ]
    }
   ],
   "source": [
    "start = time.time()\n",
    "\n",
    "ids = wd.format_ids_labels(new_item, new_item_json)\n",
    "\n",
    "stop = time.time()\n",
    "print('ids', stop-start, len(ids))"
   ]
  },
  {
   "cell_type": "code",
   "execution_count": 20,
   "id": "b6b4d6db-e0ac-467b-b2ea-94144a746dcc",
   "metadata": {},
   "outputs": [
    {
     "name": "stdout",
     "output_type": "stream",
     "text": [
      "[[commons:File:Hum Hum Waterfall.jpg]]\n",
      "[[commons:File:Flag of Quebec.svg]]\n",
      "[[commons:File:Unknown Sound.ogg]]\n"
     ]
    },
    {
     "data": {
      "text/plain": [
       "0"
      ]
     },
     "execution_count": 20,
     "metadata": {},
     "output_type": "execute_result"
    }
   ],
   "source": [
    "def test_attribute(attr, claim):\n",
    "    if not attr.startswith('_'):\n",
    "        print('-------')\n",
    "\n",
    "        try:\n",
    "            if callable(getattr(claim.target, attr)):\n",
    "                print(attr, 'method')\n",
    "                try:\n",
    "                    pass\n",
    "                    # print(getattr(claim.target, attr)())\n",
    "                except:\n",
    "                    pass\n",
    "            else:\n",
    "                print(attr, 'attr')\n",
    "                try:\n",
    "                    pass\n",
    "                    # print(getattr(claim.target, attr))\n",
    "                except:\n",
    "                    pass\n",
    "        except:\n",
    "            pass\n",
    "\n",
    "count = 0\n",
    "for prop, claims in new_item.claims.items():\n",
    "    if count > 0:\n",
    "        break\n",
    "    for claim in claims:\n",
    "        print(claim.target)\n",
    "        \n",
    "        if count > 0:\n",
    "            break\n",
    "        # count += 1\n",
    "\n",
    "        for attr in dir(claim.target):\n",
    "            pass\n",
    "            # test_attribute(attr, claim)\n",
    "\n",
    "count"
   ]
  },
  {
   "cell_type": "code",
   "execution_count": 28,
   "id": "d60ca9ca-7c32-4c0e-9d13-53569e6bc10e",
   "metadata": {},
   "outputs": [
    {
     "data": {
      "text/plain": [
       "<function str.lower>"
      ]
     },
     "execution_count": 28,
     "metadata": {},
     "output_type": "execute_result"
    }
   ],
   "source": [
    "\n",
    "'ab'.lower"
   ]
  },
  {
   "cell_type": "code",
   "execution_count": 33,
   "id": "725bd46e-9a69-4e7c-80b0-81eb2f505122",
   "metadata": {},
   "outputs": [
    {
     "data": {
      "text/plain": [
       "True"
      ]
     },
     "execution_count": 33,
     "metadata": {},
     "output_type": "execute_result"
    }
   ],
   "source": [
    "callable(getattr('ab', 'upper'))\n",
    "\n"
   ]
  },
  {
   "cell_type": "code",
   "execution_count": null,
   "id": "1131da45-6930-4292-99bb-42cc93efcfe7",
   "metadata": {},
   "outputs": [],
   "source": []
  }
 ],
 "metadata": {
  "kernelspec": {
   "display_name": "Python 3",
   "language": "python",
   "name": "python3"
  },
  "language_info": {
   "codemirror_mode": {
    "name": "ipython",
    "version": 3
   },
   "file_extension": ".py",
   "mimetype": "text/x-python",
   "name": "python",
   "nbconvert_exporter": "python",
   "pygments_lexer": "ipython3",
   "version": "3.6.8"
  }
 },
 "nbformat": 4,
 "nbformat_minor": 5
}
