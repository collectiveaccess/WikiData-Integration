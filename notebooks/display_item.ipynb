{
 "cells": [
  {
   "cell_type": "code",
   "execution_count": 1,
   "id": "84a1d3a4-b149-49d5-8767-1a325cce529e",
   "metadata": {},
   "outputs": [],
   "source": [
    "import pywikibot\n",
    "import requests\n",
    "import sys\n",
    "import os \n",
    "from pathlib import Path\n",
    "import json\n",
    "import re \n",
    "import time\n",
    "from datetime import date\n",
    "from os.path import exists\n",
    "\n",
    "\n",
    "# https://stackoverflow.com/a/66303932\n",
    "project_path = Path(os.path.dirname(os.path.realpath(\"__file__\"))).parent\n",
    "sys.path.append(str(project_path))\n",
    "sys.path.append(str(project_path / 'scripts'))\n",
    "\n",
    "import scripts.utils.wikidata_utils as wd\n"
   ]
  },
  {
   "cell_type": "code",
   "execution_count": 2,
   "id": "7e2e5f7d-5fd8-43b6-91f6-5e54507a7cbb",
   "metadata": {},
   "outputs": [],
   "source": [
    "site = pywikibot.Site(\"wikidata\", \"wikidata\")\n",
    "repo = site.data_repository()\n",
    "\n",
    "WIKI_BASE_URL = \"https://www.wikidata.org\"\n",
    "WIKI_QUERY_URL = \"https://query.wikidata.org\"\n",
    "\n"
   ]
  },
  {
   "cell_type": "code",
   "execution_count": 3,
   "id": "8d61170b-94cb-4448-80dc-b30cfeccc403",
   "metadata": {},
   "outputs": [
    {
     "data": {
      "text/plain": [
       "True"
      ]
     },
     "execution_count": 3,
     "metadata": {},
     "output_type": "execute_result"
    }
   ],
   "source": [
    "new_item = pywikibot.ItemPage(repo, title=\"Q225\")\n",
    "new_item.exists()"
   ]
  },
  {
   "cell_type": "code",
   "execution_count": 4,
   "id": "a509d13b-ad34-40c0-b196-d5ebe4f8c55e",
   "metadata": {},
   "outputs": [],
   "source": [
    "new_item_json = new_item.toJSON()\n",
    "# new_item_json"
   ]
  },
  {
   "cell_type": "code",
   "execution_count": 5,
   "id": "70d4d2d3-01f9-4cda-b07d-1c940ae3842f",
   "metadata": {},
   "outputs": [],
   "source": [
    "\n",
    "# print(json.dumps(new_item.toJSON(), indent=2, ensure_ascii=False))"
   ]
  },
  {
   "cell_type": "code",
   "execution_count": 6,
   "id": "6c32ecc2-1be6-45b0-859d-416d3fee4d95",
   "metadata": {},
   "outputs": [
    {
     "name": "stdout",
     "output_type": "stream",
     "text": [
      "16.983999967575073\n"
     ]
    }
   ],
   "source": [
    "\n",
    "start = time.time()\n",
    "foo = wd.format_display_item(new_item)\n",
    "stop = time.time()\n",
    "print(stop-start)\n",
    "\n",
    "\n"
   ]
  },
  {
   "cell_type": "code",
   "execution_count": null,
   "id": "88af54dc-9f4c-477d-8ddf-2e4611311915",
   "metadata": {},
   "outputs": [
    {
     "name": "stdout",
     "output_type": "stream",
     "text": [
      "all 8.88849687576294 449\n"
     ]
    }
   ],
   "source": [
    "\n",
    "\n",
    "all_ids = wd.get_ids_for_item(new_item, new_item_json, include_pids=True, include_qids=True)\n",
    "start = time.time()\n",
    "all_ids_dict = wd.fetch_labels_for_ids(all_ids, lang=\"en\")\n",
    "stop = time.time()\n",
    "print('all', stop-start, len(all_ids))\n",
    "\n",
    "\n",
    "q_ids = wd.get_ids_for_item(new_item, new_item_json, include_pids=False, include_qids=True)\n",
    "start = time.time()\n",
    "q_ids_dict = wd.fetch_labels_for_ids(q_ids, lang=\"en\")\n",
    "stop = time.time()\n",
    "print('qids', stop-start, len(q_ids))\n",
    "\n",
    "\n",
    "p_ids = wd.get_ids_for_item(new_item, new_item_json, include_pids=True, include_qids=False)\n",
    "start = time.time()\n",
    "p_ids_dict = wd.fetch_labels_for_ids(p_ids, lang=\"en\")\n",
    "stop = time.time()\n",
    "print('pids', stop-start, len(p_ids))"
   ]
  },
  {
   "cell_type": "code",
   "execution_count": null,
   "id": "55ea9699-a327-4e65-aa2f-0eb17db64724",
   "metadata": {},
   "outputs": [],
   "source": [
    "start = time.time()\n",
    "\n",
    "ids = wd.format_ids_labels(new_item, new_item_json)\n",
    "\n",
    "stop = time.time()\n",
    "print('ids', stop-start, len(ids))"
   ]
  }
 ],
 "metadata": {
  "kernelspec": {
   "display_name": "Python 3",
   "language": "python",
   "name": "python3"
  },
  "language_info": {
   "codemirror_mode": {
    "name": "ipython",
    "version": 3
   },
   "file_extension": ".py",
   "mimetype": "text/x-python",
   "name": "python",
   "nbconvert_exporter": "python",
   "pygments_lexer": "ipython3",
   "version": "3.6.8"
  }
 },
 "nbformat": 4,
 "nbformat_minor": 5
}
