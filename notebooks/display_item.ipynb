{
 "cells": [
  {
   "cell_type": "code",
   "execution_count": 58,
   "id": "84a1d3a4-b149-49d5-8767-1a325cce529e",
   "metadata": {},
   "outputs": [],
   "source": [
    "import pywikibot\n",
    "import requests\n",
    "import sys\n",
    "import os \n",
    "from pathlib import Path\n",
    "import json\n",
    "import re \n",
    "import time\n",
    "from datetime import date\n",
    "from os.path import exists\n",
    "from pywikibot.data import api\n",
    "\n",
    "\n",
    "# https://stackoverflow.com/a/66303932\n",
    "project_path = Path(os.path.dirname(os.path.realpath(\"__file__\"))).parent\n",
    "sys.path.append(str(project_path))\n",
    "sys.path.append(str(project_path / 'scripts'))\n",
    "\n",
    "import scripts.utils.wiki_serialization as ws\n",
    "import scripts.utils.wikidata_utils as wd\n",
    "import scripts.utils.wiki_queries as wq\n"
   ]
  },
  {
   "cell_type": "code",
   "execution_count": 59,
   "id": "7e2e5f7d-5fd8-43b6-91f6-5e54507a7cbb",
   "metadata": {},
   "outputs": [],
   "source": [
    "site = pywikibot.Site(\"wikidata\", \"wikidata\")\n",
    "repo = site.data_repository()\n",
    "\n",
    "WIKI_BASE_URL = \"https://www.wikidata.org\"\n",
    "WIKI_QUERY_URL = \"https://query.wikidata.org\"\n",
    "\n",
    "\n",
    "# Q154287 record with lots of multimedia in test.wikidata \n",
    "\n",
    "records = {\n",
    "    'Q5': 'human',\n",
    "    'Q30': 'United States',\n",
    "    'Q487604': 'Martha Graham',\n",
    "    'Q16973731': 'Dianne McIntyre',\n",
    "    'Q753828': 'Essex',\n",
    "    'Q76': 'Barack Obama',\n",
    "    'Q50602076': 'Karl Hirlmeier' # no alias\n",
    "}\n",
    "\n",
    "def print_json(data):\n",
    "    print(json.dumps(data, indent=2, ensure_ascii=False))"
   ]
  },
  {
   "cell_type": "markdown",
   "id": "81c4bab8-54c7-4a9f-894e-d3f142b2aab6",
   "metadata": {},
   "source": [
    "## get item"
   ]
  },
  {
   "cell_type": "code",
   "execution_count": 60,
   "id": "f903ba2f-60f2-4aba-b523-0a0834b62fa9",
   "metadata": {},
   "outputs": [
    {
     "data": {
      "text/plain": [
       "True"
      ]
     },
     "execution_count": 60,
     "metadata": {},
     "output_type": "execute_result"
    }
   ],
   "source": [
    "new_item = pywikibot.ItemPage(repo, title=\"Q50602076\")\n",
    "new_item.exists()"
   ]
  },
  {
   "cell_type": "code",
   "execution_count": 61,
   "id": "a509d13b-ad34-40c0-b196-d5ebe4f8c55e",
   "metadata": {
    "tags": []
   },
   "outputs": [],
   "source": [
    "new_item_json = new_item.toJSON()\n",
    "\n",
    "# print_json(new_item_json)"
   ]
  },
  {
   "cell_type": "markdown",
   "id": "dfbe8049-f4e6-462b-a560-9e5e99ab41dc",
   "metadata": {
    "tags": []
   },
   "source": [
    "## format item; this is what will be returned by the api"
   ]
  },
  {
   "cell_type": "code",
   "execution_count": 5,
   "id": "6c32ecc2-1be6-45b0-859d-416d3fee4d95",
   "metadata": {},
   "outputs": [
    {
     "name": "stdout",
     "output_type": "stream",
     "text": [
      "0.9287600517272949\n"
     ]
    }
   ],
   "source": [
    "\n",
    "start = time.time()\n",
    "item_data = wd.format_display_item(new_item, site)\n",
    "stop = time.time()\n",
    "print(stop-start)\n",
    "\n"
   ]
  },
  {
   "cell_type": "code",
   "execution_count": 6,
   "id": "4c6d27f5-c6f4-439b-9c33-41fec7c03f31",
   "metadata": {},
   "outputs": [],
   "source": [
    "# print_json(item_data)"
   ]
  },
  {
   "cell_type": "markdown",
   "id": "5a7846d0-22c9-4736-a44a-eb6b9573f6a4",
   "metadata": {},
   "source": [
    "## test how long it takes to get labels for all properties and items in an item"
   ]
  },
  {
   "cell_type": "code",
   "execution_count": 7,
   "id": "a76374b8-fa8d-4696-a6aa-0fd0fdf13df0",
   "metadata": {},
   "outputs": [],
   "source": [
    "all_ids = wd.get_ids_for_item(new_item, new_item_json, include_pids=True, include_qids=True)\n",
    "q_ids = wd.get_ids_for_item(new_item, new_item_json, include_pids=False, include_qids=True)\n",
    "p_ids = wd.get_ids_for_item(new_item, new_item_json, include_pids=True, include_qids=False)\n"
   ]
  },
  {
   "cell_type": "markdown",
   "id": "b249baa4-f634-46aa-8593-5163e9306481",
   "metadata": {},
   "source": [
    "connect to wikimedia api"
   ]
  },
  {
   "cell_type": "code",
   "execution_count": 8,
   "id": "88af54dc-9f4c-477d-8ddf-2e4611311915",
   "metadata": {},
   "outputs": [
    {
     "name": "stdout",
     "output_type": "stream",
     "text": [
      "all 1.5953569412231445 70\n",
      "qids 0.8146529197692871 28\n",
      "pids 0.7379720211029053 42\n"
     ]
    }
   ],
   "source": [
    "start = time.time()\n",
    "all_ids_dict = wq.fetch_and_format_labels_for_ids(all_ids, lang=\"en\")\n",
    "stop = time.time()\n",
    "print('all', stop-start, len(all_ids))\n",
    "\n",
    "\n",
    "start = time.time()\n",
    "q_ids_dict = wq.fetch_and_format_labels_for_ids(q_ids, lang=\"en\")\n",
    "stop = time.time()\n",
    "print('qids', stop-start, len(q_ids))\n",
    "\n",
    "\n",
    "start = time.time()\n",
    "p_ids_dict = wq.fetch_and_format_labels_for_ids(p_ids, lang=\"en\")\n",
    "stop = time.time()\n",
    "print('pids', stop-start, len(p_ids))"
   ]
  },
  {
   "cell_type": "markdown",
   "id": "c000d56f-7990-4c97-8631-7e44874e0990",
   "metadata": {},
   "source": [
    "use sqarql query "
   ]
  },
  {
   "cell_type": "code",
   "execution_count": 9,
   "id": "5e3d18ba-ec22-481b-b894-e33cc401c2e5",
   "metadata": {},
   "outputs": [
    {
     "name": "stdout",
     "output_type": "stream",
     "text": [
      "all_ids 0.4774019718170166 70\n",
      "q_ids 0.2958390712738037 28\n",
      "q_ids 0.25041985511779785 42\n"
     ]
    }
   ],
   "source": [
    "start = time.time()\n",
    "results = wq.fetch_and_format_labels_for_ids_sqarql(all_ids)\n",
    "stop = time.time()\n",
    "print('all_ids', stop-start, len(all_ids))\n",
    "\n",
    "\n",
    "start = time.time()\n",
    "results = wq.fetch_and_format_labels_for_ids_sqarql(q_ids)\n",
    "stop = time.time()\n",
    "print('q_ids', stop-start, len(q_ids))\n",
    "\n",
    "start = time.time()\n",
    "results = wq.fetch_and_format_labels_for_ids_sqarql(p_ids)\n",
    "stop = time.time()\n",
    "print('q_ids', stop-start, len(p_ids))"
   ]
  },
  {
   "cell_type": "code",
   "execution_count": 10,
   "id": "55ea9699-a327-4e65-aa2f-0eb17db64724",
   "metadata": {},
   "outputs": [
    {
     "name": "stdout",
     "output_type": "stream",
     "text": [
      "ids 0.46909403800964355 70\n"
     ]
    }
   ],
   "source": [
    "start = time.time()\n",
    "\n",
    "ids = wd.create_id_label_dictionary(new_item, new_item_json)\n",
    "\n",
    "stop = time.time()\n",
    "print('ids', stop-start, len(ids))"
   ]
  },
  {
   "cell_type": "markdown",
   "id": "030f2a55-53a0-494d-8901-5b9254460200",
   "metadata": {},
   "source": [
    "## how to call dir methods"
   ]
  },
  {
   "cell_type": "code",
   "execution_count": 11,
   "id": "ddedb189-71ca-40dc-b505-aa285aee4fb1",
   "metadata": {},
   "outputs": [
    {
     "data": {
      "text/plain": [
       "<function str.upper>"
      ]
     },
     "execution_count": 11,
     "metadata": {},
     "output_type": "execute_result"
    }
   ],
   "source": [
    "getattr('ab', 'upper')"
   ]
  },
  {
   "cell_type": "code",
   "execution_count": 12,
   "id": "725bd46e-9a69-4e7c-80b0-81eb2f505122",
   "metadata": {},
   "outputs": [
    {
     "data": {
      "text/plain": [
       "True"
      ]
     },
     "execution_count": 12,
     "metadata": {},
     "output_type": "execute_result"
    }
   ],
   "source": [
    "callable(getattr('ab', 'upper'))"
   ]
  },
  {
   "cell_type": "code",
   "execution_count": 13,
   "id": "dc5a4edb-e8d3-436c-ad89-33cd2a0f5a99",
   "metadata": {},
   "outputs": [
    {
     "data": {
      "text/plain": [
       "'AB'"
      ]
     },
     "execution_count": 13,
     "metadata": {},
     "output_type": "execute_result"
    }
   ],
   "source": [
    "foo = 'ab'\n",
    "for attr in dir(foo):\n",
    "    if attr == 'upper':\n",
    "        bar = getattr(foo, attr)()\n",
    "        \n",
    "bar\n",
    "        "
   ]
  },
  {
   "cell_type": "markdown",
   "id": "946b6997-7640-4a5d-85aa-4e20d36c9424",
   "metadata": {},
   "source": [
    "## call every method and attribute in dir() for the claims in an iten"
   ]
  },
  {
   "cell_type": "code",
   "execution_count": 14,
   "id": "b6b4d6db-e0ac-467b-b2ea-94144a746dcc",
   "metadata": {},
   "outputs": [],
   "source": [
    "def test_attribute(attr, claim):\n",
    "    if not attr.startswith('_'):\n",
    "        print('-------')\n",
    "\n",
    "        try:\n",
    "            if callable(getattr(claim.target, attr)):\n",
    "                print(attr, 'method')\n",
    "                try:\n",
    "                    print(getattr(claim.target, attr)())\n",
    "                except:\n",
    "                    pass\n",
    "            else:\n",
    "                print(attr, 'attr')\n",
    "                try:\n",
    "                    print(getattr(claim.target, attr))\n",
    "                except:\n",
    "                    pass\n",
    "        except:\n",
    "            pass\n",
    "\n"
   ]
  },
  {
   "cell_type": "code",
   "execution_count": 15,
   "id": "89812a13-7b25-42c6-a568-a1e6ec54bc01",
   "metadata": {},
   "outputs": [
    {
     "name": "stdout",
     "output_type": "stream",
     "text": [
      "[[commons:File:Hum Hum Waterfall.jpg]]\n"
     ]
    },
    {
     "data": {
      "text/plain": [
       "1"
      ]
     },
     "execution_count": 15,
     "metadata": {},
     "output_type": "execute_result"
    }
   ],
   "source": [
    "site = pywikibot.Site(\"test\", \"wikidata\")\n",
    "repo = site.data_repository()\n",
    "\n",
    "# Q154287 record with multimedia test.wikidata \n",
    "test_item = pywikibot.ItemPage(repo, title=\"Q154287\")\n",
    "\n",
    "count = 0\n",
    "for prop, claims in test_item.claims.items():\n",
    "    if count > 0:\n",
    "        break\n",
    "    for claim in claims:\n",
    "        if count > 0:\n",
    "            break\n",
    "        count += 1\n",
    "        \n",
    "        print(claim.target)\n",
    "        # print(dir(claim.target))\n",
    "\n",
    "        for attr in dir(claim.target):\n",
    "            pass\n",
    "            # test_attribute(attr, claim)\n",
    "\n",
    "count"
   ]
  },
  {
   "cell_type": "markdown",
   "id": "df8e786e-d6f9-4923-8b8b-a742bbd186c2",
   "metadata": {},
   "source": [
    "## inspect each claim  with a given property"
   ]
  },
  {
   "cell_type": "code",
   "execution_count": 16,
   "id": "1131da45-6930-4292-99bb-42cc93efcfe7",
   "metadata": {},
   "outputs": [],
   "source": [
    "for prop, claims in new_item.claims.items():\n",
    "    if prop == 'P214':\n",
    "        for claim in claims:\n",
    "            continue\n",
    "        \n"
   ]
  },
  {
   "cell_type": "markdown",
   "id": "8a91a7c2-4b2e-4b72-b0f7-cb91c8f9b745",
   "metadata": {},
   "source": [
    "## check if fetch common media function works on all file tyes"
   ]
  },
  {
   "cell_type": "code",
   "execution_count": 17,
   "id": "57df06b5-7c03-4782-8c3d-1457d2b97158",
   "metadata": {},
   "outputs": [
    {
     "name": "stdout",
     "output_type": "stream",
     "text": [
      "18 18\n"
     ]
    }
   ],
   "source": [
    "files = [\n",
    "    # image\n",
    "    'File:Оробко Василь 1916.tif',\n",
    "    'File:Deepika Prasain.png',\n",
    "    'File:Human-body-gif.gif',\n",
    "    'File:Gingerbread_House_Essex_CT.jpg', \n",
    "    'File:Yousef Jadallah.webp',\n",
    "    'File:AddictionDependence-de.xcf',\n",
    "    # drawing\n",
    "    'File:Pattern example.svg',\n",
    "    # audio\n",
    "    'File:Connectiong people - morse code.mid',\n",
    "    'File:Universal Declaration of Human Rights - sot.flac',\n",
    "    'File:Human fart.wav',\n",
    "    'File:Perros jugando.mp3',\n",
    "    'File:Columba_palumbus_birdsong.ogg',\n",
    "    # viedo\n",
    "    'File:Saving Oliver from the Dog Meat Trade - -YulinIsEverywhere.webm',\n",
    "    'File:TRAPS-Brao people.mpg',\n",
    "    'File:A domestic dog snoring.ogv',\n",
    "    # office\n",
    "    'File:The complete dog book (IA completedogbook00brue).pdf',\n",
    "    'File:The Dog in Health and Disease.Djvu',\n",
    "    # 3d\n",
    "    'File:Human hip bone.stl'\n",
    "]\n",
    "\n",
    "results = wq.fetch_commons_media_metadata(site, files)\n",
    "\n",
    "print(len(results), len(files))"
   ]
  },
  {
   "cell_type": "code",
   "execution_count": 18,
   "id": "fe51feeb-610d-4213-a371-7c5fe0f8165e",
   "metadata": {},
   "outputs": [],
   "source": [
    "# results[0]"
   ]
  },
  {
   "cell_type": "code",
   "execution_count": 19,
   "id": "17854ec1-4976-45b8-85a7-98560a3b3b8a",
   "metadata": {},
   "outputs": [
    {
     "name": "stdout",
     "output_type": "stream",
     "text": [
      "----\n",
      "BITMAP image/tiff 14\n",
      "----\n",
      "BITMAP image/png 13\n",
      "----\n",
      "BITMAP image/gif 14\n",
      "----\n",
      "BITMAP image/jpeg 13\n",
      "----\n",
      "BITMAP image/webp 13\n",
      "----\n",
      "BITMAP image/x-xcf 13\n",
      "----\n",
      "DRAWING image/svg+xml 13\n",
      "----\n",
      "AUDIO audio/midi 12\n",
      "----\n",
      "AUDIO audio/x-flac 13\n",
      "----\n",
      "AUDIO audio/wav 13\n",
      "----\n",
      "AUDIO audio/mpeg 13\n",
      "----\n",
      "AUDIO application/ogg 13\n",
      "----\n",
      "VIDEO video/webm 14\n",
      "----\n",
      "VIDEO video/mpeg 14\n",
      "----\n",
      "VIDEO application/ogg 14\n",
      "----\n",
      "OFFICE application/pdf 14\n",
      "----\n",
      "OFFICE image/vnd.djvu 14\n",
      "----\n",
      "3D application/sla 13\n"
     ]
    }
   ],
   "source": [
    "\n",
    "for res in results:\n",
    "    print('----')\n",
    "    print(res['imageinfo'][0]['mediatype'], \n",
    "          res['imageinfo'][0]['mime'], len(res['imageinfo'][0].keys()))\n",
    "    \n",
    "    # print(list(datum.keys()))"
   ]
  },
  {
   "cell_type": "code",
   "execution_count": 20,
   "id": "4dbeb3d5-7718-443b-9654-07c1dd425c57",
   "metadata": {},
   "outputs": [],
   "source": [
    "data = wq.format_commons_media_metadata_results(results)\n",
    "\n",
    "# print(json.dumps(data, indent=2, ensure_ascii=False))\n"
   ]
  },
  {
   "cell_type": "code",
   "execution_count": 21,
   "id": "e4b7c9df-1712-44ba-bbc7-3242119d5bac",
   "metadata": {},
   "outputs": [
    {
     "name": "stdout",
     "output_type": "stream",
     "text": [
      "BITMAP image/tiff 12\n",
      "BITMAP image/png 12\n",
      "BITMAP image/gif 12\n",
      "BITMAP image/jpeg 12\n",
      "BITMAP image/webp 12\n",
      "BITMAP image/x-xcf 12\n",
      "DRAWING image/svg+xml 12\n",
      "AUDIO audio/midi 6\n",
      "AUDIO audio/x-flac 7\n",
      "AUDIO audio/wav 7\n",
      "AUDIO audio/mpeg 7\n",
      "AUDIO application/ogg 7\n",
      "VIDEO video/webm 13\n",
      "VIDEO video/mpeg 13\n",
      "VIDEO application/ogg 13\n",
      "OFFICE application/pdf 13\n",
      "OFFICE image/vnd.djvu 13\n",
      "3D application/sla 12\n"
     ]
    }
   ],
   "source": [
    "\n",
    "for res in data.values():\n",
    "    print( res['mediatype'],  res['mime'], len(res.keys()))\n",
    "    \n"
   ]
  },
  {
   "cell_type": "code",
   "execution_count": null,
   "id": "ecf738fb-b5f3-44d9-a7cc-469907885652",
   "metadata": {},
   "outputs": [],
   "source": []
  },
  {
   "cell_type": "code",
   "execution_count": null,
   "id": "daf8393d-fd13-4362-aa9b-d26d099fcb4a",
   "metadata": {},
   "outputs": [],
   "source": []
  },
  {
   "cell_type": "code",
   "execution_count": 39,
   "id": "31234034-20f6-4a5c-8712-6b3ccc5a2552",
   "metadata": {},
   "outputs": [],
   "source": [
    "foo = wq.fetch_wikidata_languages(site)\n",
    "# results = foo['wbcontentlanguages']\n",
    "# results\n"
   ]
  },
  {
   "cell_type": "code",
   "execution_count": 40,
   "id": "52c95449-ec7d-4cd2-b066-7cdb2d8cdb4d",
   "metadata": {},
   "outputs": [],
   "source": [
    "results = foo['query']['wbcontentlanguages']"
   ]
  },
  {
   "cell_type": "code",
   "execution_count": 62,
   "id": "f313c87e-6e8c-4f96-a351-28719ede0224",
   "metadata": {},
   "outputs": [
    {
     "data": {
      "text/plain": [
       "4"
      ]
     },
     "execution_count": 62,
     "metadata": {},
     "output_type": "execute_result"
    }
   ],
   "source": [
    "item_lang_codes = set()\n",
    "    \n",
    "for  lang, value in new_item.labels.items():\n",
    "    item_lang_codes.add(lang)\n",
    "\n",
    "for  lang, value in new_item.descriptions.items():\n",
    "    item_lang_codes.add(lang)\n",
    "\n",
    "for  lang, value in new_item.aliases.items():\n",
    "    item_lang_codes.add(lang)\n",
    "\n",
    "len(item_lang_codes)"
   ]
  },
  {
   "cell_type": "code",
   "execution_count": 67,
   "id": "1fda9f06-5b43-4d54-b776-8f00176627a4",
   "metadata": {},
   "outputs": [
    {
     "data": {
      "text/plain": [
       "{'ast': 'Asturian', 'de': 'German', 'en': 'English', 'nl': 'Dutch'}"
      ]
     },
     "execution_count": 67,
     "metadata": {},
     "output_type": "execute_result"
    }
   ],
   "source": [
    "def format_get_item_languages(results, item_lang_codes):\n",
    "    item_langs = {}\n",
    "\n",
    "    for lang in results.values():\n",
    "        if lang['code'] in item_lang_codes:\n",
    "            item_langs[lang['code']] = lang['name'] \n",
    "            \n",
    "    return item_langs\n",
    "    \n"
   ]
  },
  {
   "cell_type": "code",
   "execution_count": null,
   "id": "4ae53abc-39c5-4252-ba72-f8483e2f4176",
   "metadata": {},
   "outputs": [],
   "source": []
  },
  {
   "cell_type": "code",
   "execution_count": null,
   "id": "e7decade-3cde-45de-83fc-6b89f4c9c5f0",
   "metadata": {},
   "outputs": [],
   "source": []
  }
 ],
 "metadata": {
  "kernelspec": {
   "display_name": "Python 3",
   "language": "python",
   "name": "python3"
  },
  "language_info": {
   "codemirror_mode": {
    "name": "ipython",
    "version": 3
   },
   "file_extension": ".py",
   "mimetype": "text/x-python",
   "name": "python",
   "nbconvert_exporter": "python",
   "pygments_lexer": "ipython3",
   "version": "3.6.8"
  }
 },
 "nbformat": 4,
 "nbformat_minor": 5
}
